{
  "nbformat": 4,
  "nbformat_minor": 0,
  "metadata": {
    "colab": {
      "provenance": [],
      "authorship_tag": "ABX9TyNVfRaFBFBPzYd5QdgN3WvV",
      "include_colab_link": true
    },
    "kernelspec": {
      "name": "python3",
      "display_name": "Python 3"
    },
    "language_info": {
      "name": "python"
    }
  },
  "cells": [
    {
      "cell_type": "markdown",
      "metadata": {
        "id": "view-in-github",
        "colab_type": "text"
      },
      "source": [
        "<a href=\"https://colab.research.google.com/github/beyzassevval/Techcareer_VeriBilimi_Odevlerim/blob/main/%C3%96dev_2.ipynb\" target=\"_parent\"><img src=\"https://colab.research.google.com/assets/colab-badge.svg\" alt=\"Open In Colab\"/></a>"
      ]
    },
    {
      "cell_type": "code",
      "source": [
        "# Soru 1\n",
        "sayi=input(\"Lütfen Bir Sayı Giriniz\") #kullanıcıdan girdi alıyoruz\n",
        "sayi = int(sayi) #sayi değişkeninin değerini tanımladık\n",
        "print(sayi)\n",
        "#ilk önce pozitif-negatif kontrolü yapalım\n",
        "if sayi > 0: #sayı 0 dan büyük mü?? if ile kontrol\n",
        "  print(\"Girilen Sayı Pozitiftir\")\n",
        "elif sayi < 0:\n",
        "  print(\"Girilen Sayı Negatiftir\")\n",
        "else:\n",
        "  print(\"Girilen Sayı Sıfırdır\")\n",
        "  #tek- çift kontrolü yapalım\n",
        "if sayi % 2 == 0:\n",
        "  print(\"Girilen Sayı Çifttir\")\n",
        "else:\n",
        "  print(\"Girilen Sayı Tektir\")"
      ],
      "metadata": {
        "colab": {
          "base_uri": "https://localhost:8080/"
        },
        "id": "KL3ZM3e_0SMF",
        "outputId": "f4d9a691-5cdf-4521-e5d7-b1786064864c"
      },
      "execution_count": null,
      "outputs": [
        {
          "output_type": "stream",
          "name": "stdout",
          "text": [
            "Lütfen Bir Sayı Giriniz5\n",
            "5\n",
            "Girilen Sayı Pozitiftir\n",
            "Girilen Sayı Tektir\n"
          ]
        }
      ]
    },
    {
      "cell_type": "code",
      "source": [
        "# Soru 2 (harf frekansı-string)\n",
        "\n",
        "#kullanıcıdan bir kelime alalım\n",
        "kelime = input(\"Lütfen Bir Kelime Giriniz\")\n",
        "kelime = str(kelime)\n",
        "print(kelime)\n",
        "\n",
        "# Hangi harften kaç adet geçtiğini bulalım\n",
        "harf_frekans={}\n",
        "for harf in kelime:\n",
        "  if harf in harf_frekans:\n",
        "    harf_frekans[harf]+=1\n",
        "  else:\n",
        "    harf_frekans[harf]=1\n",
        "print(harf_frekans)"
      ],
      "metadata": {
        "colab": {
          "base_uri": "https://localhost:8080/"
        },
        "id": "iQWFiz8c0xcd",
        "outputId": "dcb63755-5c43-4c4c-906a-0f0bedce5b15"
      },
      "execution_count": null,
      "outputs": [
        {
          "output_type": "stream",
          "name": "stdout",
          "text": [
            "Lütfen Bir Kelime Girinizsonbahar\n",
            "sonbahar\n",
            "{'s': 1, 'o': 1, 'n': 1, 'b': 1, 'a': 2, 'h': 1, 'r': 1}\n"
          ]
        }
      ]
    },
    {
      "cell_type": "code",
      "source": [
        "# Soru 3 (şifre kontrolü-string metod)\n",
        "\n",
        "#kullanıcıdan şifre girmesini isteyelim\n",
        "sifre=input(\"Lütfen Bir Şifre Giriniz\")\n",
        "print(sifre)\n",
        "\n",
        "#koşulları sağlıyormu kontrolü(en az 8 karakter,1 büyük harf, 1 küçük harf içersin)\n",
        "if len(sifre) < 8:\n",
        "  print(\"Şifreniz En Az 8 Karakter Olmalıdır\")\n",
        "else:\n",
        "  has_upper = False\n",
        "  has_lower = False\n",
        "  for char in sifre:\n",
        "    if char.isupper():\n",
        "      has_upper = True\n",
        "    elif char.islower():\n",
        "      has_lower = True\n",
        "\n",
        "  if not has_upper:\n",
        "    print(\"Şifreniz En Az Bir Büyük Harf İçermelidir\")\n",
        "  elif not has_lower:\n",
        "    print(\"Şifreniz En Az Bir Küçük Harf İçermelidir\")\n",
        "  else:\n",
        "    print(\"Şifreniz Geçerlidir\")"
      ],
      "metadata": {
        "colab": {
          "base_uri": "https://localhost:8080/"
        },
        "id": "ZHKAtsk-1a5T",
        "outputId": "63c81070-a263-480a-ab8a-d5ed993c8fa8"
      },
      "execution_count": null,
      "outputs": [
        {
          "output_type": "stream",
          "name": "stdout",
          "text": [
            "Lütfen Bir Şifre Giriniz43536356356\n",
            "43536356356\n",
            "Şifreniz En Az Bir Büyük Harf İçermelidir\n"
          ]
        }
      ]
    },
    {
      "cell_type": "code",
      "source": [
        "# Soru 4\n",
        "#Liste işlemleri\n",
        "liste=[12,4,9,25,30,7,18]\n",
        "\n",
        "#listenin ortalamasını bulalım\n",
        "toplam = sum(liste)\n",
        "print(\"Toplam\",toplam)\n",
        "ortalama=toplam/len(liste)\n",
        "print(\"Ortalama:\",ortalama)\n",
        "\n",
        "# Ortalamadan büyük sayıları ayrı listeye atalım\n",
        "buyuk_sayilar = []\n",
        "for sayi in liste:\n",
        "  if sayi > ortalama:\n",
        "    buyuk_sayilar.append(sayi)\n",
        "print(\"Ortalamadan Büyük Sayılar:\",buyuk_sayilar)"
      ],
      "metadata": {
        "colab": {
          "base_uri": "https://localhost:8080/"
        },
        "id": "mGr3QXSJ3YUb",
        "outputId": "3769eb44-4ae7-417c-e8fa-4bdac9e77d85"
      },
      "execution_count": null,
      "outputs": [
        {
          "output_type": "stream",
          "name": "stdout",
          "text": [
            "Toplam 105\n",
            "Ortalama: 15.0\n",
            "Ortalamadan Büyük Sayılar: [25, 30, 18]\n"
          ]
        }
      ]
    },
    {
      "cell_type": "code",
      "source": [
        "# Soru 5(nested loop) üçgen desen\n",
        "\n",
        "a = 0\n",
        "while a<6 :\n",
        "  print(a*\"*\")\n",
        "  a=a+1"
      ],
      "metadata": {
        "colab": {
          "base_uri": "https://localhost:8080/"
        },
        "id": "yX62kXl94bYc",
        "outputId": "602229ef-5804-48dd-b2cc-6f31ad72a1f4"
      },
      "execution_count": null,
      "outputs": [
        {
          "output_type": "stream",
          "name": "stdout",
          "text": [
            "\n",
            "*\n",
            "**\n",
            "***\n",
            "****\n",
            "*****\n"
          ]
        }
      ]
    },
    {
      "cell_type": "code",
      "source": [
        "# Soru 6 While döngüsü\n",
        "\n",
        "#kullanıcıdan sürekli sayı isteyelim\n",
        "#kullanıcı 0 girdiğinde program durucak\n",
        "toplam = 0\n",
        "sayac = 0\n",
        "sayi = None\n",
        "\n",
        "while sayi != 0:\n",
        "  sayi = int(input(\"Lütfen Bir Sayı Giriniz\"))\n",
        "\n",
        "  #girilen tüm sayıların toplamı ve ortalaması\n",
        "  if sayi != 0:\n",
        "    toplam += sayi\n",
        "    sayac += 1\n",
        "\n",
        "print(\"Program Sonlandı\")\n",
        "if sayac > 0:\n",
        "  ortalama = toplam / sayac\n",
        "  print(\"Girilen Sayıların Toplamı:\", toplam)\n",
        "  print(\"Girilen Sayıların Ortalaması:\", ortalama)"
      ],
      "metadata": {
        "colab": {
          "base_uri": "https://localhost:8080/"
        },
        "id": "caH6S1WD5JDd",
        "outputId": "e19c824c-aa8a-4a3b-f846-7bc35e04ac41"
      },
      "execution_count": null,
      "outputs": [
        {
          "output_type": "stream",
          "name": "stdout",
          "text": [
            "Lütfen Bir Sayı Giriniz-9\n",
            "Lütfen Bir Sayı Giriniz9\n",
            "Lütfen Bir Sayı Giriniz0\n",
            "Program Sonlandı\n",
            "Girilen Sayıların Toplamı: 0\n",
            "Girilen Sayıların Ortalaması: 0.0\n"
          ]
        }
      ]
    },
    {
      "cell_type": "code",
      "source": [
        "# Soru 7 palindrom kontrolü\n",
        "kelime=input(\"Lütfen Bir Kelime Giriniz\")\n",
        "print(kelime)\n",
        "\n",
        "# Palindrom kontrolü\n",
        "if kelime == kelime[::-1]:\n",
        "  print(\"Girilen Kelime Palindromdur\")\n",
        "else:\n",
        "  print(\"Girilen Kelime Palindrom Değildir\")"
      ],
      "metadata": {
        "colab": {
          "base_uri": "https://localhost:8080/"
        },
        "id": "tt4F7RUR6ekp",
        "outputId": "d5395ced-cc76-4952-b905-b43917566208"
      },
      "execution_count": null,
      "outputs": [
        {
          "output_type": "stream",
          "name": "stdout",
          "text": [
            "Lütfen Bir Kelime Girinizkayak\n",
            "kayak\n",
            "Girilen Kelime Palindromdur\n"
          ]
        }
      ]
    },
    {
      "cell_type": "code",
      "source": [
        "# Soru 8 List Comprehension\n",
        "# 1 - 100 arası sayılardan hem 3 hem 5 e bölünenlerin karelerini içeren bir liste oluşturalım\n",
        "kareler = [x**2 for x in range(1,101) if x % 3 == 0 and x % 5 == 0]\n",
        "print(kareler)"
      ],
      "metadata": {
        "colab": {
          "base_uri": "https://localhost:8080/"
        },
        "id": "yVvEXD6x61rU",
        "outputId": "7137d18f-17de-4cf9-ecdf-89df538b6289"
      },
      "execution_count": null,
      "outputs": [
        {
          "output_type": "stream",
          "name": "stdout",
          "text": [
            "[225, 900, 2025, 3600, 5625, 8100]\n"
          ]
        }
      ]
    },
    {
      "cell_type": "code",
      "source": [
        "from re import split\n",
        "# Soru 9 -string işlemleri\n",
        "cümle=input(\"Lütfen Bir Cümle Giriniz:\")\n",
        "\n",
        "#cümledeki kelimeleri split() ile ayıralım\n",
        "kelimeler = cümle.split()\n",
        "print(kelimeler)\n",
        "\n",
        "#kelimeler i baş harfini büyük yapalım\n",
        "buyuk_kelimeler = [kelime.capitalize() for kelime in kelimeler]\n",
        "print(buyuk_kelimeler)"
      ],
      "metadata": {
        "colab": {
          "base_uri": "https://localhost:8080/"
        },
        "id": "SLv85wb-7_2P",
        "outputId": "ddef4838-9d03-4637-b8da-00a3955b12b7"
      },
      "execution_count": null,
      "outputs": [
        {
          "output_type": "stream",
          "name": "stdout",
          "text": [
            "Lütfen Bir Cümle Giriniz:güzel hava , güzel insanlar\n",
            "['güzel', 'hava', ',', 'güzel', 'insanlar']\n",
            "['Güzel', 'Hava', ',', 'Güzel', 'Insanlar']\n"
          ]
        }
      ]
    },
    {
      "cell_type": "code",
      "source": [
        "# Mini Proje\n",
        "#------------\n",
        "# Film Yorumu Analizi\n",
        "\n",
        "#kullanıcıdan bir çok film yorumu alalım\n",
        "yorumlar = [] # yorumlar listesi\n",
        "while (yorum:=input(\"Lütfen Film Yorumunuzu Giriniz (Çıkmak için 'q' ya basın):\")) != \"q\":\n",
        "  yorumlar.append(yorum)\n",
        "  print(yorum)\n",
        "\n",
        "#her yorumun uzunluğunu bulalım\n",
        "print(\"\\nYorumların Uzunlukları :\")\n",
        "for yorum in yorumlar:\n",
        "  print(len(yorum))\n",
        " #ortalama yorum uzunlukları\n",
        "toplam_uzunluk = sum(len(yorum) for yorum in yorumlar)\n",
        "ortalama_uzunluk = toplam_uzunluk / len(yorumlar)\n",
        "print(f\"\\nOrtalama Yorum Uzunluğu: {ortalama_uzunluk}\")\n",
        "  # En uzun ve En kısa yorumu ekrana yazdıralım\n",
        "en_uzun_yorum = max(yorumlar, key=len)\n",
        "en_kisa_yorum = min(yorumlar, key=len)\n",
        "print(f\"\\nEn Uzun Yorum: {en_uzun_yorum}\")\n",
        "print(f\"En Kısa Yorum: {en_kisa_yorum}\")\n",
        "\n",
        "\n",
        "\n",
        "#kaç yorumda \"iyi\" geçiyor\n",
        "sayac = 0\n",
        "for yorum in yorumlar:\n",
        "  if \"iyi\" in yorum:\n",
        "    sayac += 1\n",
        "\n",
        "print(f'\\n\"iyi\" kelimesi {sayac} yorumda geçiyor.') # yazdıralım\n",
        "\n"
      ],
      "metadata": {
        "colab": {
          "base_uri": "https://localhost:8080/"
        },
        "id": "m2T3TjVL9cU5",
        "outputId": "10ed2179-3755-4f29-bb68-3a2d38a0f3bb"
      },
      "execution_count": null,
      "outputs": [
        {
          "output_type": "stream",
          "name": "stdout",
          "text": [
            "Lütfen Film Yorumunuzu Giriniz (Çıkmak için 'q' ya basın):film çok iyiydi\n",
            "film çok iyiydi\n",
            "Lütfen Film Yorumunuzu Giriniz (Çıkmak için 'q' ya basın):kötü maaleseeeff\n",
            "kötü maaleseeeff\n",
            "Lütfen Film Yorumunuzu Giriniz (Çıkmak için 'q' ya basın):ortalamaydı\n",
            "ortalamaydı\n",
            "Lütfen Film Yorumunuzu Giriniz (Çıkmak için 'q' ya basın):çookiyii\n",
            "çookiyii\n",
            "Lütfen Film Yorumunuzu Giriniz (Çıkmak için 'q' ya basın):q\n",
            "\n",
            "Yorumların Uzunlukları :\n",
            "15\n",
            "16\n",
            "11\n",
            "8\n",
            "\n",
            "Ortalama Yorum Uzunluğu: 12.5\n",
            "\n",
            "En Uzun Yorum: kötü maaleseeeff\n",
            "En Kısa Yorum: çookiyii\n",
            "\n",
            "\"iyi\" kelimesi 2 yorumda geçiyor.\n"
          ]
        }
      ]
    }
  ]
}