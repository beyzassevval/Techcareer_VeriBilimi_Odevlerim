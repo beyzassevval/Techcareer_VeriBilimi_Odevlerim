{
  "nbformat": 4,
  "nbformat_minor": 0,
  "metadata": {
    "colab": {
      "provenance": [],
      "authorship_tag": "ABX9TyNwSU2CRLg6Nw48WBrSLsuw",
      "include_colab_link": true
    },
    "kernelspec": {
      "name": "python3",
      "display_name": "Python 3"
    },
    "language_info": {
      "name": "python"
    }
  },
  "cells": [
    {
      "cell_type": "markdown",
      "metadata": {
        "id": "view-in-github",
        "colab_type": "text"
      },
      "source": [
        "<a href=\"https://colab.research.google.com/github/beyzassevval/Techcareer_VeriBilimi_Odevlerim/blob/main/%C3%96dev_1.ipynb\" target=\"_parent\"><img src=\"https://colab.research.google.com/assets/colab-badge.svg\" alt=\"Open In Colab\"/></a>"
      ]
    },
    {
      "cell_type": "code",
      "execution_count": 1,
      "metadata": {
        "colab": {
          "base_uri": "https://localhost:8080/"
        },
        "id": "B0xBdoCTvO9N",
        "outputId": "1699ee3a-c3c7-4ee0-ec81-13c5a0ec3ce9"
      },
      "outputs": [
        {
          "output_type": "stream",
          "name": "stdout",
          "text": [
            "Adınızı giriniz: beyza\n",
            "Yaşınızı giriniz: 20\n",
            "Boyunuzu (metre cinsinden) giriniz: 166\n",
            "Merhaba beyza - 20 yaşındasınız ve boyunuz 166.0 metre.\n",
            "Matematik notu: 78\n",
            "Fizik notu: 65\n",
            "Kimya notu: 45\n",
            "Ortalamanız: 62.666666666666664\n",
            "İlk karakter: P\n",
            "Son karakter: a\n",
            "Uzunluğu: 18\n",
            "Ters çevrilmiş: amalmargorP nohtyP\n"
          ]
        }
      ],
      "source": [
        "#Kullanıcıdan ad, yaş, boy\n",
        "ad = input(\"Adınızı giriniz: \")\n",
        "yas = int(input(\"Yaşınızı giriniz: \"))\n",
        "boy = float(input(\"Boyunuzu (metre cinsinden) giriniz: \"))\n",
        "\n",
        "print(\"Merhaba\", ad, \"-\", yas, \"yaşındasınız ve boyunuz\", boy, \"metre.\")\n",
        "\n",
        "#Öğrenci notları\n",
        "matematik = int(input(\"Matematik notu: \"))\n",
        "fizik = int(input(\"Fizik notu: \"))\n",
        "kimya = int(input(\"Kimya notu: \"))\n",
        "\n",
        "ortalama = (matematik + fizik + kimya) / 3\n",
        "print(\"Ortalamanız:\", float(ortalama))\n",
        "\n",
        "#String işlemleri\n",
        "metin = \"Python Programlama\"\n",
        "print(\"İlk karakter:\", metin[0])\n",
        "print(\"Son karakter:\", metin[-1])\n",
        "print(\"Uzunluğu:\", len(metin))\n",
        "print(\"Ters çevrilmiş:\", metin[::-1])\n"
      ]
    },
    {
      "cell_type": "code",
      "source": [
        "#İki sayı işlemleri\n",
        "sayi1 = int(input(\"Birinci sayıyı giriniz: \"))\n",
        "sayi2 = int(input(\"İkinci sayıyı giriniz: \"))\n",
        "\n",
        "print(\"Toplama:\", sayi1 + sayi2)\n",
        "print(\"Çıkarma:\", sayi1 - sayi2)\n",
        "print(\"Çarpma:\", sayi1 * sayi2)\n",
        "print(\"Bölme:\", sayi1 / sayi2)\n",
        "print(\"Mod:\", sayi1 % sayi2)\n",
        "\n",
        "#Ortalama >= 50 kontrolü\n",
        "ortalama = float(input(\"Öğrenci ortalamasını giriniz: \"))\n",
        "print(\"Geçti\") if ortalama >= 50 else print(\"Kaldı\")\n",
        "\n",
        "#Yaş ve ehliyet kontrolü\n",
        "yas = int(input(\"Yaşınızı giriniz: \"))\n",
        "print(\"Ehliyet alabilirsiniz\") if yas >= 18 else print(\"Ehliyet alamazsınız\")\n",
        "\n",
        "# Ürün fiyat indirimi\n",
        "fiyat = float(input(\"Ürün fiyatını giriniz: \"))\n",
        "indirim = float(input(\"İndirim oranını giriniz (%): \"))\n",
        "indirimli_fiyat = fiyat - (fiyat * indirim / 100)\n",
        "print(\"İndirimli fiyat:\", indirimli_fiyat)\n",
        "\n",
        "#Mantıksal operatörler\n",
        "a = True\n",
        "b = False\n",
        "\n",
        "print(\"a and b:\", a and b)\n",
        "print(\"a or b:\", a or b)\n",
        "print(\"not a:\", not a)\n"
      ],
      "metadata": {
        "colab": {
          "base_uri": "https://localhost:8080/"
        },
        "id": "1oxXNxeJvleg",
        "outputId": "48032f61-0307-4456-ad4a-1f5b680923a6"
      },
      "execution_count": 2,
      "outputs": [
        {
          "output_type": "stream",
          "name": "stdout",
          "text": [
            "Birinci sayıyı giriniz: 23\n",
            "İkinci sayıyı giriniz: 24\n",
            "Toplama: 47\n",
            "Çıkarma: -1\n",
            "Çarpma: 552\n",
            "Bölme: 0.9583333333333334\n",
            "Mod: 23\n",
            "Öğrenci ortalamasını giriniz: 56\n",
            "Geçti\n",
            "Yaşınızı giriniz: 23\n",
            "Ehliyet alabilirsiniz\n",
            "Ürün fiyatını giriniz: 65\n",
            "İndirim oranını giriniz (%): 89\n",
            "İndirimli fiyat: 7.149999999999999\n",
            "a and b: False\n",
            "a or b: True\n",
            "not a: False\n"
          ]
        }
      ]
    },
    {
      "cell_type": "code",
      "source": [
        "# Alışveriş sepeti\n",
        "urun1 = float(input(\"1. ürün fiyatı: \"))\n",
        "urun2 = float(input(\"2. ürün fiyatı: \"))\n",
        "urun3 = float(input(\"3. ürün fiyatı: \"))\n",
        "\n",
        "toplam = urun1 + urun2 + urun3\n",
        "\n",
        "if toplam > 200:\n",
        "    toplam = toplam - (toplam * 0.10)  # %10 indirim\n",
        "\n",
        "print(\"Ödenecek toplam fiyat:\", toplam)\n",
        "\n",
        "# Yaş hesaplama\n",
        "dogum_yili = int(input(\"Doğum yılınızı giriniz: \"))\n",
        "guncel_yil = 2025\n",
        "yas = guncel_yil - dogum_yili\n",
        "\n",
        "if 0 <= yas <= 12:\n",
        "    print(\"Çocuksunuz\")\n",
        "elif 13 <= yas <= 17:\n",
        "    print(\"Ergensiniz\")\n",
        "else:\n",
        "    print(\"Yetişkinsiniz\")\n"
      ],
      "metadata": {
        "colab": {
          "base_uri": "https://localhost:8080/"
        },
        "id": "PYYJ7w1Dvu_b",
        "outputId": "0ba06d67-c264-423c-f390-ea2219bef7b9"
      },
      "execution_count": 3,
      "outputs": [
        {
          "output_type": "stream",
          "name": "stdout",
          "text": [
            "1. ürün fiyatı: 150\n",
            "2. ürün fiyatı: 200\n",
            "3. ürün fiyatı: 400\n",
            "Ödenecek toplam fiyat: 675.0\n",
            "Doğum yılınızı giriniz: 2004\n",
            "Yetişkinsiniz\n"
          ]
        }
      ]
    }
  ]
}