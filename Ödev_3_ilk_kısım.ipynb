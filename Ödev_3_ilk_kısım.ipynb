{
  "nbformat": 4,
  "nbformat_minor": 0,
  "metadata": {
    "colab": {
      "provenance": [],
      "authorship_tag": "ABX9TyPq63WpI+pkX1K/rwzNPhgo",
      "include_colab_link": true
    },
    "kernelspec": {
      "name": "python3",
      "display_name": "Python 3"
    },
    "language_info": {
      "name": "python"
    }
  },
  "cells": [
    {
      "cell_type": "markdown",
      "metadata": {
        "id": "view-in-github",
        "colab_type": "text"
      },
      "source": [
        "<a href=\"https://colab.research.google.com/github/beyzassevval/Techcareer_VeriBilimi_Odevlerim/blob/main/%C3%96dev_3_ilk_k%C4%B1s%C4%B1m.ipynb\" target=\"_parent\"><img src=\"https://colab.research.google.com/assets/colab-badge.svg\" alt=\"Open In Colab\"/></a>"
      ]
    },
    {
      "cell_type": "code",
      "execution_count": null,
      "metadata": {
        "id": "QsGU1O-lAS54"
      },
      "outputs": [],
      "source": [
        "#Haftalık Ödev – Yaz Kampı: Veri Bilimi – Hafta 3"
      ]
    },
    {
      "cell_type": "code",
      "source": [
        "# Soru 1 : Liste metodları\n",
        "notlar=[85, 92, 76, 92, 100, 76, 85, 92]\n",
        "#tekrar eden notları sil\n",
        "notlar=list(set(notlar))\n",
        "print(\"Benzersiz Liste:\",notlar)\n",
        "#en yüksek ve en düşük not\n",
        "print(\"En Yüksek Not:\",max(notlar))\n",
        "print(\"En Düşük Not:\",min(notlar))\n",
        "#notları küçükten büyüğe sırala\n",
        "print(\"Küçükten Büyüge sıralı:\",sorted(notlar))"
      ],
      "metadata": {
        "colab": {
          "base_uri": "https://localhost:8080/"
        },
        "id": "g5oROY-gAaXR",
        "outputId": "537cbd4e-e33c-48a3-e438-f696c65631af"
      },
      "execution_count": 3,
      "outputs": [
        {
          "output_type": "stream",
          "name": "stdout",
          "text": [
            "Benzersiz Liste: [100, 92, 85, 76]\n",
            "En Yüksek Not: 100\n",
            "En Düşük Not: 76\n",
            "Küçükten Büyüge sıralı: [76, 85, 92, 100]\n"
          ]
        }
      ]
    },
    {
      "cell_type": "code",
      "source": [
        "#Soru 2 – Sayılar\n",
        "# Armstrong sayı mı?\n",
        "#Armstrong sayısı: Her basamağının küplerinin toplamı kendisine eşit olan sayılar.\n",
        "def is_armstrong(n: int) -> bool:\n",
        "    digits = [int(d) for d in str(n)]\n",
        "    # Küplerinin toplamını al\n",
        "    total = sum([d**3 for d in digits])\n",
        "    # Kontrol\n",
        "    return total == n\n",
        "\n",
        "# Test\n",
        "print(is_armstrong(153))  # True\n",
        "print(is_armstrong(370))  # True\n",
        "print(is_armstrong(371))  # True\n",
        "print(is_armstrong(9474)) # False, çünkü 3 basamaklı sayılara göre kod yazdım\n",
        "print(is_armstrong(123))  # False\n",
        "\n",
        "\n"
      ],
      "metadata": {
        "colab": {
          "base_uri": "https://localhost:8080/"
        },
        "id": "2d4FVPI1BY-L",
        "outputId": "2ad231bb-003d-4cbc-ed92-673899eb3ae2"
      },
      "execution_count": 8,
      "outputs": [
        {
          "output_type": "stream",
          "name": "stdout",
          "text": [
            "True\n",
            "True\n",
            "True\n",
            "False\n",
            "False\n"
          ]
        }
      ]
    },
    {
      "cell_type": "code",
      "source": [
        "#Soru 3 – Kümeler\n",
        "A = {\"Python\", \"R\", \"SQL\", \"Java\"}\n",
        "B = {\"C++\", \"Python\", \"JavaScript\", \"SQL\"}\n",
        "#iki kümede ortak diller neler bulalım\n",
        "print(\"Ortak Özellikler:\")\n",
        "set.intersection(A,B)\n",
        "#Sadece A da olanlar\n",
        "print(\"Sadece A da olanlar:\")\n",
        "set.difference(A,B)\n",
        "#Sadece B de olanlar\n",
        "print(\"Sadece B de olanlar:\")\n",
        "set.difference(B,A)\n",
        "#iki kümenin birleşimi\n",
        "print(\"İki kümenin birleşimi:\")\n",
        "set.union(A,B)\n"
      ],
      "metadata": {
        "colab": {
          "base_uri": "https://localhost:8080/"
        },
        "id": "tF_xfEeAC6hq",
        "outputId": "0255ac1f-23ae-4ccb-f571-889cc19704b6"
      },
      "execution_count": 2,
      "outputs": [
        {
          "output_type": "stream",
          "name": "stdout",
          "text": [
            "Ortak Özellikler:\n",
            "Sadece A da olanlar:\n",
            "Sadece B de olanlar:\n",
            "İki kümenin birleşimi:\n"
          ]
        },
        {
          "output_type": "execute_result",
          "data": {
            "text/plain": [
              "{'C++', 'Java', 'JavaScript', 'Python', 'R', 'SQL'}"
            ]
          },
          "metadata": {},
          "execution_count": 2
        }
      ]
    },
    {
      "cell_type": "code",
      "source": [
        "#Soru 4 – Modüller\n",
        "import random\n",
        "import statistics\n",
        "\n",
        "sayilar = random.sample(range(1, 101), 10)\n",
        "print(\"Rastgele Sayılar:\", sayilar)\n",
        "\n",
        "#ortalama\n",
        "ortalama = statistics.mean(sayilar)\n",
        "print(\"Ortalama:\", ortalama)\n",
        "\n",
        "#standart sapma\n",
        "standart_sapma = statistics.stdev(sayilar)\n",
        "print(\"Standart Sapma:\", standart_sapma)"
      ],
      "metadata": {
        "colab": {
          "base_uri": "https://localhost:8080/"
        },
        "id": "zjEuo-EMoisX",
        "outputId": "8d277d49-e7d4-4786-82d6-7797897af11f"
      },
      "execution_count": 5,
      "outputs": [
        {
          "output_type": "stream",
          "name": "stdout",
          "text": [
            "Rastgele Sayılar: [11, 71, 21, 9, 90, 65, 99, 79, 20, 58]\n",
            "Ortalama: 52.3\n",
            "Standart Sapma: 34.09480247127934\n"
          ]
        }
      ]
    },
    {
      "cell_type": "code",
      "source": [
        "#Soru 5 – Fonksiyonlar\n",
        "metin='''Veri bilimi, yapılandırılmış ve yapılandırılmamış verilerden bilgi ve öngörü elde etmek için bilimsel yöntemleri,\n",
        "süreçleri, algoritmaları ve sistemleri kullanan çok disiplinli bir alandır.\n",
        "Veri bilimi veri madenciliği ve büyük verilerle ilişkilidir.'''\n",
        "\n",
        "def kelime_sayaci(metin):\n",
        "    kelimeler = metin.split()\n",
        "    toplam_kelime_sayisi = len(kelimeler)\n",
        "    en_uzun_kelime = max(kelimeler, key=len)\n",
        "    en_cok_gecen_kelime = max(set(kelimeler), key=kelimeler.count)\n",
        "\n",
        "    print(\"Toplam kelime sayısı:\", toplam_kelime_sayisi)\n",
        "    print(\"En uzun kelime:\", en_uzun_kelime)\n",
        "    print(\"En sık geçen kelime:\", en_cok_gecen_kelime)\n",
        "\n",
        "kelime_sayaci(metin)\n"
      ],
      "metadata": {
        "colab": {
          "base_uri": "https://localhost:8080/"
        },
        "id": "Gyj6OkTVqrBh",
        "outputId": "936df8d5-620e-4ee0-d094-bae7f1de50be"
      },
      "execution_count": 14,
      "outputs": [
        {
          "output_type": "stream",
          "name": "stdout",
          "text": [
            "Toplam kelime sayısı: 31\n",
            "En uzun kelime: yapılandırılmamış\n",
            "En sık geçen kelime: ve\n"
          ]
        }
      ]
    },
    {
      "cell_type": "code",
      "source": [
        "#Soru 6 – Gömülü Fonksiyonlar\n",
        "#Aşağıdaki liste için map, filter, sorted gibi gömülü fonksiyonları kullanarak:\n",
        "sayilar = [5, 12, 7, 18, 24, 3, 16]\n",
        "# Sadece çift sayıları filtreleyin.\n",
        "cift_sayilar = list(filter(lambda x: x % 2 == 0, sayilar))\n",
        "print(\"Çift Sayılar:\", cift_sayilar)\n",
        "\n",
        "# Bu sayıların karelerini bulun.\n",
        "kareleri = list(map(lambda x: x**2, cift_sayilar))\n",
        "print(\"Kareleri:\", kareleri)\n",
        "\n",
        "#Karelerini azalan sırada sıralayın\n",
        "sirali_kareleri = sorted(kareleri, reverse=True)\n",
        "print(\"Kareleri azalan sırada:\", sirali_kareleri)"
      ],
      "metadata": {
        "colab": {
          "base_uri": "https://localhost:8080/"
        },
        "id": "hHmuNPIxq50r",
        "outputId": "a45eb841-0e6f-4fba-c1c7-cbe8a4b781ae"
      },
      "execution_count": 16,
      "outputs": [
        {
          "output_type": "stream",
          "name": "stdout",
          "text": [
            "Çift Sayılar: [12, 18, 24, 16]\n",
            "Kareleri: [144, 324, 576, 256]\n",
            "Kareleri azalan sırada: [576, 324, 256, 144]\n"
          ]
        }
      ]
    },
    {
      "cell_type": "code",
      "source": [
        "#Soru 7 – Lambda İfadeleri\n",
        "kelimeler = [\"veri\", \"bilim\", \"analiz\", \"yapayzeka\", \"python\"]\n",
        "sirali=sorted(kelimeler,reverse=False,key=lambda x:len(x))\n",
        "print(sirali)"
      ],
      "metadata": {
        "colab": {
          "base_uri": "https://localhost:8080/"
        },
        "id": "4SCgBOWarmq7",
        "outputId": "8fe2be70-31f6-45a1-b596-ecb5f8af3d11"
      },
      "execution_count": 18,
      "outputs": [
        {
          "output_type": "stream",
          "name": "stdout",
          "text": [
            "['veri', 'bilim', 'analiz', 'python', 'yapayzeka']\n"
          ]
        }
      ]
    },
    {
      "cell_type": "code",
      "source": [
        "#Soru 8 – Metodlar\n",
        "strng=\"VeriBilimi2025\"\n",
        "def get_digits(strng):\n",
        "  c=\"\"\n",
        "  for i in strng:\n",
        "   if i.isdigit():\n",
        "    i=int(i)\n",
        "    c+=str(i)\n",
        "  return c\n",
        "get_digits(strng)\n",
        "#rakamlar toplamları\n",
        "print(sum([int(i) for i in get_digits(strng)]))\n"
      ],
      "metadata": {
        "colab": {
          "base_uri": "https://localhost:8080/"
        },
        "id": "dDEc25YIsF4M",
        "outputId": "2ab1e5c1-33bc-45fb-a749-b0e3bba03f7b"
      },
      "execution_count": 21,
      "outputs": [
        {
          "output_type": "stream",
          "name": "stdout",
          "text": [
            "9\n"
          ]
        }
      ]
    },
    {
      "cell_type": "code",
      "source": [
        "#Soru 9 – (Ekstra) Numpy 1\n",
        "import numpy as np\n",
        "\n",
        "# 10 elemanlı, 0–50 arasında rastgele tam sayılar\n",
        "dizi = np.random.randint(0, 51, 10)\n",
        "print(\"Dizi:\", dizi)\n",
        "\n",
        "# Ortalama\n",
        "ortalama = np.mean(dizi)\n",
        "# Standart sapma\n",
        "std = np.std(dizi)\n",
        "# En büyük değer\n",
        "maks = np.max(dizi)\n",
        "\n",
        "print(\"Ortalama:\", ortalama)\n",
        "print(\"Standart Sapma:\", std)\n",
        "print(\"En Büyük Değer:\", maks)\n"
      ],
      "metadata": {
        "colab": {
          "base_uri": "https://localhost:8080/"
        },
        "id": "qAjADYEttrCI",
        "outputId": "811a46c0-ed39-4df6-bd89-00bc848c102b"
      },
      "execution_count": 23,
      "outputs": [
        {
          "output_type": "stream",
          "name": "stdout",
          "text": [
            "Dizi: [ 9 24 10 13 47 48 29 29 10 32]\n",
            "Ortalama: 25.1\n",
            "Standart Sapma: 13.945967159003352\n",
            "En Büyük Değer: 48\n"
          ]
        }
      ]
    },
    {
      "cell_type": "code",
      "source": [
        "# Soru 10\n",
        "import numpy as np\n",
        "\n",
        "# 5x5 boyutunda, 0–1 arasında rastgele sayılar\n",
        "matris = np.random.rand(5, 5)\n",
        "print(\"Orijinal Matris:\\n\", matris)\n",
        "\n",
        "# Her sütunun ortalaması\n",
        "sutun_ort = np.mean(matris, axis=0)\n",
        "print(\"\\nSütun Ortalamaları:\", sutun_ort)\n",
        "\n",
        "# 0.5'ten büyükse 1, küçük/eşitse 0 yap -> binary matris\n",
        "binary_matris = (matris > 0.5).astype(int)\n",
        "print(\"\\nBinary Matris:\\n\", binary_matris)\n",
        "\n"
      ],
      "metadata": {
        "colab": {
          "base_uri": "https://localhost:8080/"
        },
        "id": "jo2PMVij6jnb",
        "outputId": "0dbb7b6a-3df3-402f-ff32-30e338f9f60a"
      },
      "execution_count": 31,
      "outputs": [
        {
          "output_type": "stream",
          "name": "stdout",
          "text": [
            "Orijinal Matris:\n",
            " [[0.02248388 0.99199243 0.73864258 0.18893546 0.21618991]\n",
            " [0.28580136 0.73802392 0.65497046 0.11554945 0.702599  ]\n",
            " [0.28216633 0.82725464 0.40721848 0.07015746 0.74280834]\n",
            " [0.04349158 0.60911409 0.32131488 0.94387709 0.11192669]\n",
            " [0.19894804 0.28345293 0.24968639 0.52162517 0.54856949]]\n",
            "\n",
            "Sütun Ortalamaları: [0.16657824 0.6899676  0.47436656 0.36802893 0.46441869]\n",
            "\n",
            "Binary Matris:\n",
            " [[0 1 1 0 0]\n",
            " [0 1 1 0 1]\n",
            " [0 1 0 0 1]\n",
            " [0 1 0 1 0]\n",
            " [0 0 0 1 1]]\n"
          ]
        }
      ]
    }
  ]
}